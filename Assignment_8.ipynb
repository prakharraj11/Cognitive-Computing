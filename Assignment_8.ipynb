{
  "nbformat": 4,
  "nbformat_minor": 0,
  "metadata": {
    "colab": {
      "provenance": [],
      "authorship_tag": "ABX9TyMMYIb4jOz8tukKXBAlmszf"
    },
    "kernelspec": {
      "name": "python3",
      "display_name": "Python 3"
    },
    "language_info": {
      "name": "python"
    }
  },
  "cells": [
    {
      "cell_type": "markdown",
      "source": [
        "# Implementation of Logistic Regression on the Iris Dataset"
      ],
      "metadata": {
        "id": "akDIyf5bx-Ff"
      }
    },
    {
      "cell_type": "code",
      "source": [
        "from sklearn.datasets import load_iris\n",
        "X,y = load_iris(return_X_y=True)"
      ],
      "metadata": {
        "id": "buI4V-VTy-RO"
      },
      "execution_count": 14,
      "outputs": []
    },
    {
      "cell_type": "code",
      "source": [
        "import matplotlib.pyplot as plt\n",
        "plt.figaspect(8)\n",
        "plt.boxplot(X)"
      ],
      "metadata": {
        "colab": {
          "base_uri": "https://localhost:8080/",
          "height": 933
        },
        "id": "l8gEeTRP5tCD",
        "outputId": "02467cb0-f029-42f6-be95-a56e5c02aeab"
      },
      "execution_count": 38,
      "outputs": [
        {
          "output_type": "execute_result",
          "data": {
            "text/plain": [
              "{'whiskers': [<matplotlib.lines.Line2D at 0x78386440b2d0>,\n",
              "  <matplotlib.lines.Line2D at 0x783864409410>,\n",
              "  <matplotlib.lines.Line2D at 0x78386256db90>,\n",
              "  <matplotlib.lines.Line2D at 0x78386433c790>,\n",
              "  <matplotlib.lines.Line2D at 0x78386405b1d0>,\n",
              "  <matplotlib.lines.Line2D at 0x7838640581d0>,\n",
              "  <matplotlib.lines.Line2D at 0x7838642607d0>,\n",
              "  <matplotlib.lines.Line2D at 0x783864263110>],\n",
              " 'caps': [<matplotlib.lines.Line2D at 0x783864409890>,\n",
              "  <matplotlib.lines.Line2D at 0x78386256ff90>,\n",
              "  <matplotlib.lines.Line2D at 0x7838643035d0>,\n",
              "  <matplotlib.lines.Line2D at 0x783864570c10>,\n",
              "  <matplotlib.lines.Line2D at 0x78386405b8d0>,\n",
              "  <matplotlib.lines.Line2D at 0x78386405bf90>,\n",
              "  <matplotlib.lines.Line2D at 0x783864260350>,\n",
              "  <matplotlib.lines.Line2D at 0x7838640281d0>],\n",
              " 'boxes': [<matplotlib.lines.Line2D at 0x783863f0ca90>,\n",
              "  <matplotlib.lines.Line2D at 0x78386256e750>,\n",
              "  <matplotlib.lines.Line2D at 0x7838641227d0>,\n",
              "  <matplotlib.lines.Line2D at 0x783864261e50>],\n",
              " 'medians': [<matplotlib.lines.Line2D at 0x78386256fd50>,\n",
              "  <matplotlib.lines.Line2D at 0x783864120f90>,\n",
              "  <matplotlib.lines.Line2D at 0x7838640593d0>,\n",
              "  <matplotlib.lines.Line2D at 0x783864028790>],\n",
              " 'fliers': [<matplotlib.lines.Line2D at 0x78386256f750>,\n",
              "  <matplotlib.lines.Line2D at 0x783864120a50>,\n",
              "  <matplotlib.lines.Line2D at 0x7838642603d0>,\n",
              "  <matplotlib.lines.Line2D at 0x78386402a550>],\n",
              " 'means': []}"
            ]
          },
          "metadata": {},
          "execution_count": 38
        },
        {
          "output_type": "display_data",
          "data": {
            "text/plain": [
              "<Figure size 640x480 with 1 Axes>"
            ],
            "image/png": "[encoded data removed]"
          },
          "metadata": {}
        }
      ]
    },
    {
      "cell_type": "code",
      "source": [
        "from sklearn.model_selection import train_test_split\n",
        "X_train, X_test, y_train, y_test = train_test_split(X,y,test_size=0.2,random_state=42,stratify = y)\n",
        "\n",
        "from sklearn.preprocessing import StandardScaler\n",
        "scaler = StandardScaler()\n",
        "X_train = scaler.fit_transform(X_train)\n",
        "X_test = scaler.transform(X_test)"
      ],
      "metadata": {
        "id": "z7z78TY9zXLA"
      },
      "execution_count": 46,
      "outputs": []
    },
    {
      "cell_type": "code",
      "execution_count": 47,
      "metadata": {
        "id": "jxrhN7uex3yf"
      },
      "outputs": [],
      "source": [
        "from sklearn.linear_model import LogisticRegression\n",
        "logistic_regressor = LogisticRegression(random_state = 0)\n",
        "logistic_regressor.fit(X_train,y_train)\n",
        "y_pred = logistic_regressor.predict(X_test)"
      ]
    },
    {
      "cell_type": "code",
      "source": [
        "print(len(y_pred))"
      ],
      "metadata": {
        "colab": {
          "base_uri": "https://localhost:8080/"
        },
        "id": "wS13GzhI9BkV",
        "outputId": "acce7865-5f13-440e-cfa5-0ab07f3698f4"
      },
      "execution_count": 44,
      "outputs": [
        {
          "output_type": "stream",
          "name": "stdout",
          "text": [
            "60\n"
          ]
        }
      ]
    },
    {
      "cell_type": "code",
      "source": [
        "from sklearn.metrics import accuracy_score,confusion_matrix,classification_report\n",
        "acc = accuracy_score(y_test,y_pred)\n",
        "print(acc)\n",
        "print(confusion_matrix(y_test,y_pred))\n",
        "print(classification_report(y_test,y_pred))"
      ],
      "metadata": {
        "colab": {
          "base_uri": "https://localhost:8080/"
        },
        "id": "CEZ08Chj1-tS",
        "outputId": "5e0e4b71-ef36-43db-e083-8616f4f4ca45"
      },
      "execution_count": 45,
      "outputs": [
        {
          "output_type": "stream",
          "name": "stdout",
          "text": [
            "0.9333333333333333\n",
            "[[20  0  0]\n",
            " [ 0 19  1]\n",
            " [ 0  3 17]]\n",
            "              precision    recall  f1-score   support\n",
            "\n",
            "           0       1.00      1.00      1.00        20\n",
            "           1       0.86      0.95      0.90        20\n",
            "           2       0.94      0.85      0.89        20\n",
            "\n",
            "    accuracy                           0.93        60\n",
            "   macro avg       0.94      0.93      0.93        60\n",
            "weighted avg       0.94      0.93      0.93        60\n",
            "\n"
          ]
        }
      ]
    }
  ]
}