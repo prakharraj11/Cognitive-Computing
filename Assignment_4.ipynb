{
  "nbformat": 4,
  "nbformat_minor": 0,
  "metadata": {
    "colab": {
      "provenance": [],
      "authorship_tag": "ABX9TyNaR8HgYvSkP9JJIhm/R7gK",
      "include_colab_link": true
    },
    "kernelspec": {
      "name": "python3",
      "display_name": "Python 3"
    },
    "language_info": {
      "name": "python"
    }
  },
  "cells": [
    {
      "cell_type": "markdown",
      "metadata": {
        "id": "view-in-github",
        "colab_type": "text"
      },
      "source": [
        "<a href=\"https://colab.research.google.com/github/prakharraj11/Cognitive-Computing/blob/main/Assignment_4.ipynb\" target=\"_parent\"><img src=\"https://colab.research.google.com/assets/colab-badge.svg\" alt=\"Open In Colab\"/></a>"
      ]
    },
    {
      "cell_type": "markdown",
      "source": [
        "# **Assignment 4**\n",
        "Q.1 Write a program to create a NumPy 1D-array with 5 elements and perform basic\n",
        "operations like:\n",
        "\n",
        "a) Addition of 2 in all the element\n",
        "\n",
        "b) Multiply 3 with all the elements\n",
        "\n",
        "c) Divide every element by 2"
      ],
      "metadata": {
        "id": "yK7CFobwUezY"
      }
    },
    {
      "cell_type": "code",
      "execution_count": 11,
      "metadata": {
        "colab": {
          "base_uri": "https://localhost:8080/"
        },
        "id": "f8SrTZVCURih",
        "outputId": "e5360069-87b3-4739-f5e2-dcc6188be51d"
      },
      "outputs": [
        {
          "output_type": "stream",
          "name": "stdout",
          "text": [
            "[1 2 3 4 5]\n",
            "adding 2 to all elements\n",
            "[3 4 5 6 7]\n",
            "Multiplying by 3\n",
            "[ 3  6  9 12 15]\n",
            "Dividing each element by 2\n",
            "[0.5 1.  1.5 2.  2.5]\n"
          ]
        }
      ],
      "source": [
        "import numpy as np\n",
        "a = np.arange(1,6)\n",
        "print(a)\n",
        "print(\"adding 2 to all elements\")\n",
        "print(a+2)\n",
        "print(\"Multiplying by 3\")\n",
        "print(a*3)\n",
        "print(\"Dividing each element by 2\")\n",
        "print(a/2)"
      ]
    },
    {
      "cell_type": "markdown",
      "source": [
        "Q.2 Questions on Basic NumPy Array:\n",
        "\n",
        "a) Reverse the NumPy array: arr = np.array([1, 2, 3, 6, 4, 5])\n",
        "\n",
        "b) Find the most frequent value and their indice(s) in the following arrays:\n",
        "\n",
        "i. x = np.array([1,2,3,4,5,1,2,1,1,1])\n",
        "\n",
        "ii. y = np.array([1, 1, 1, 2, 3, 4, 2, 4, 3, 3, ])"
      ],
      "metadata": {
        "id": "6af4yNG6VYnH"
      }
    },
    {
      "cell_type": "code",
      "source": [
        "b = np.array([1,2,3,6,4,5])\n",
        "c = np.flip(b)\n",
        "print(b)\n",
        "print(\"Printing reverse\")\n",
        "print(c)\n",
        "\n",
        "x = np.array([1,2,3,4,5,1,2,1,1,1])\n",
        "y = np.array([1,1,1,2,3,4,2,4,3,3])\n",
        "\n",
        "print(\"For array x\")\n",
        "uni, freq = np.unique(x,return_counts=True)\n",
        "a = np.where(freq==(max(freq)))\n",
        "print(uni[a])\n",
        "print(np.where(x==uni[a]))\n",
        "\n",
        "print(\"For array y\")\n",
        "uni, freq = np.unique(y,return_counts=True)\n",
        "a = np.where(freq==(max(freq)))\n",
        "print(uni[a])\n",
        "print(np.where(y==uni[a][0]))"
      ],
      "metadata": {
        "colab": {
          "base_uri": "https://localhost:8080/"
        },
        "id": "uffhnlrXVc34",
        "outputId": "ff6dfb1b-85df-4474-811d-746bc5a977c8"
      },
      "execution_count": 31,
      "outputs": [
        {
          "output_type": "stream",
          "name": "stdout",
          "text": [
            "[1 2 3 6 4 5]\n",
            "Printing reverse\n",
            "[5 4 6 3 2 1]\n",
            "For array x\n",
            "[1]\n",
            "(array([0, 5, 7, 8, 9]),)\n",
            "For array y\n",
            "[1 3]\n",
            "(array([0, 1, 2]),)\n"
          ]
        }
      ]
    },
    {
      "cell_type": "markdown",
      "source": [
        "Q.3 For the given 2-D array arr=np.array([10, 20, 30], [40, 50, 60], [70, 80, 90]), access elements using row and column indices as follows:\n",
        "\n",
        "a) Access 1st row, 2nd column\n",
        "\n",
        "b) Access 3rd row, 1st column"
      ],
      "metadata": {
        "id": "jQGswTp8bw2x"
      }
    },
    {
      "cell_type": "code",
      "source": [
        "arr = np.array([[10,20,30],[40,50,60],[70,80,90]])\n",
        "print(arr[0][1])\n",
        "print(arr[2][0])"
      ],
      "metadata": {
        "colab": {
          "base_uri": "https://localhost:8080/"
        },
        "id": "Xnv3RTvMb2Zh",
        "outputId": "b3daff79-00f4-4e8d-ed72-af583d20bc4e"
      },
      "execution_count": 37,
      "outputs": [
        {
          "output_type": "stream",
          "name": "stdout",
          "text": [
            "20\n",
            "70\n"
          ]
        }
      ]
    },
    {
      "cell_type": "markdown",
      "source": [
        "Q.4 Write program to create an 1-D NumPy array named <<Your Name>> with evenly\n",
        "spaced 25 numbers from 10 to 100 using linspace(). Print the dimensions of the array,\n",
        "shape, total elements, the data type of each element and total number of bytes consumed\n",
        "by the array. Find the transpose of this array using reshape() attribute. Can we do the same\n",
        "with T attribute?"
      ],
      "metadata": {
        "id": "WaZCOPpFdNP5"
      }
    },
    {
      "cell_type": "code",
      "source": [
        "Prakhar = np.linspace(10,100,25)\n",
        "print(Prakhar)\n",
        "print(\"Dimensions of the array = \",Prakhar.ndim)\n",
        "print(\"Shape of the array = \",Prakhar.shape)\n",
        "print(\"Total elements = \",np.size(Prakhar))\n",
        "print(\"Datatype \",Prakhar.dtype)\n",
        "print(\"Total size of array in bytes = \",Prakhar.itemsize * Prakhar.size)\n",
        "print(\"Transposing \")\n",
        "Prakhar = Prakhar.reshape\n",
        "print(Prakhar)"
      ],
      "metadata": {
        "colab": {
          "base_uri": "https://localhost:8080/"
        },
        "id": "XKtfmdDmdcQn",
        "outputId": "480b4359-bc50-4215-c7f7-e711fb4d1219"
      },
      "execution_count": 75,
      "outputs": [
        {
          "output_type": "stream",
          "name": "stdout",
          "text": [
            "[ 10.    13.75  17.5   21.25  25.    28.75  32.5   36.25  40.    43.75\n",
            "  47.5   51.25  55.    58.75  62.5   66.25  70.    73.75  77.5   81.25\n",
            "  85.    88.75  92.5   96.25 100.  ]\n",
            "Dimensions of the array =  1\n",
            "Shape of the array =  (25,)\n",
            "Total elements =  25\n",
            "Datatype  float64\n",
            "Total size of array in bytes =  200\n",
            "Transposing \n",
            "<built-in method reshape of numpy.ndarray object at 0x7bca627d7b10>\n"
          ]
        }
      ]
    },
    {
      "cell_type": "markdown",
      "source": [
        "Q5. Create a 2-D Array of three rows and four columns, named ucs420_<your_name>>\n",
        "with following values – 10, 20, 30, 40, 50, 60, 70, 80, 90, 15, 20, 35. Compute the mean,\n",
        "median, max, min, unique elements. Reshape the array to four rows and three columns and\n",
        "name it as reshaped_ ucs420_<your_name>>. Resize the array to two rows and three\n",
        "columns and name it as resized_ ucs420_<your_name>>."
      ],
      "metadata": {
        "id": "OEgQa__Yg-Qu"
      }
    },
    {
      "cell_type": "code",
      "source": [
        "ucs420 = np.array([[10,20,30,40],[50,60,70,80],[90,15,20,35]])\n",
        "print(ucs420)\n",
        "print()\n",
        "print(\"Mean of the given array = \",np.mean(ucs420))\n",
        "print(\"Median of the given array = \",np.median(ucs420))\n",
        "print(\"Maimum value = \",np.max(ucs420))\n",
        "print(\"Minimum value = \",np.min(ucs420))\n",
        "print(\"Maimum value = \",np.unique(ucs420))\n",
        "print(\"Reshaping\")\n",
        "reshaped = ucs420.reshape(4,3)\n",
        "print(reshaped)\n",
        "print(\"Resizing\")\n",
        "resized = np.resize(ucs420,[2,3])\n",
        "print(resized)"
      ],
      "metadata": {
        "colab": {
          "base_uri": "https://localhost:8080/"
        },
        "id": "-LQuA-q9g_UN",
        "outputId": "b4346c81-6a84-40a6-a4e2-aa3629ce7a6b"
      },
      "execution_count": 89,
      "outputs": [
        {
          "output_type": "stream",
          "name": "stdout",
          "text": [
            "[[10 20 30 40]\n",
            " [50 60 70 80]\n",
            " [90 15 20 35]]\n",
            "\n",
            "Mean of the given array =  43.333333333333336\n",
            "Median of the given array =  37.5\n",
            "Maimum value =  90\n",
            "Minimum value =  10\n",
            "Maimum value =  [10 15 20 30 35 40 50 60 70 80 90]\n",
            "Reshaping\n",
            "[[10 20 30]\n",
            " [40 50 60]\n",
            " [70 80 90]\n",
            " [15 20 35]]\n",
            "Resizing\n",
            "[[10 20 30]\n",
            " [40 50 60]]\n"
          ]
        }
      ]
    }
  ]
}